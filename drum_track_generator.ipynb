{
  "nbformat": 4,
  "nbformat_minor": 0,
  "metadata": {
    "colab": {
      "provenance": [],
      "authorship_tag": "ABX9TyO7v4KJO4bdGmG82FPFwYg+"
    },
    "kernelspec": {
      "name": "python3",
      "display_name": "Python 3"
    },
    "language_info": {
      "name": "python"
    }
  },
  "cells": [
    {
      "cell_type": "code",
      "source": [
        "!pip install pydub #install necessary directories\n",
        "!apt install ffmpeg\n",
        "!pip install spleeter\n",
        "!pip install librosa\n",
        "!pip install keras\n",
        "!pip install numpy"
      ],
      "metadata": {
        "id": "TTLMYOpjBsSN"
      },
      "execution_count": null,
      "outputs": []
    },
    {
      "cell_type": "code",
      "source": [
        "from google.colab import drive #mount to google drive to export files\n",
        "drive.mount('/content/drive', force_remount=True)\n",
        "from IPython.display import Audio\n",
        "from pydub import AudioSegment\n",
        "import librosa\n",
        "from keras.models import Sequential\n",
        "from keras.layers import Dense, Activation, Dropout, LSTM\n",
        "import numpy"
      ],
      "metadata": {
        "id": "ze0lKQHD8QSu"
      },
      "execution_count": null,
      "outputs": []
    },
    {
      "cell_type": "code",
      "source": [
        "!wget https://github.com/manntalati/musicproj/raw/main/songs/Numb.mp3 #receive music files from github\n",
        "!wget https://github.com/manntalati/musicproj/raw/main/songs/DigitalLove.mp3\n",
        "!wget https://github.com/manntalati/musicproj/raw/main/songs/Faint.mp3\n",
        "!wget https://github.com/manntalati/musicproj/raw/main/songs/Rock.mp3\n",
        "!wget https://github.com/manntalati/musicproj/raw/main/songs/Lost.mp3"
      ],
      "metadata": {
        "id": "A91WZYqz_iDA"
      },
      "execution_count": null,
      "outputs": []
    },
    {
      "cell_type": "code",
      "source": [
        "!spleeter separate -o output -p spleeter:4stems Numb.mp3 #split the mp3 files to find the drums.wav using spleeter\n",
        "!spleeter separate -o output -p spleeter:4stems DigitalLove.mp3\n",
        "!spleeter separate -o output -p spleeter:4stems Lost.mp3\n",
        "!spleeter separate -o output -p spleeter:4stems Faint.mp3\n",
        "!spleeter separate -o output -p spleeter:4stems Rock.mp3"
      ],
      "metadata": {
        "id": "1Nb4fdd_8wwF"
      },
      "execution_count": null,
      "outputs": []
    },
    {
      "cell_type": "code",
      "source": [
        "sound1 = AudioSegment.from_wav('output/Numb/drums.wav') #export the files to google drive under test data specifically for drums audio only\n",
        "sound1.export('/content/drive/MyDrive/musicproj/TrainData/NumbDrums.mp3', format='mp3')\n",
        "sound2 = AudioSegment.from_wav('output/Lost/drums.wav')\n",
        "sound2.export('/content/drive/MyDrive/musicproj/TrainData/LostDrums.mp3', format='mp3')\n",
        "sound3 = AudioSegment.from_wav('output/Rock/drums.wav')\n",
        "sound3.export('/content/drive/MyDrive/musicproj/TrainData/RockDrums.mp3', format='mp3')\n",
        "sound4 = AudioSegment.from_wav('output/DigitalLove/drums.wav')\n",
        "sound4.export('/content/drive/MyDrive/musicproj/TrainData/DigitalLoveDrums.mp3', format='mp3')\n",
        "sound5 = AudioSegment.from_wav('output/Faint/drums.wav')\n",
        "sound5.export('/content/drive/MyDrive/musicproj/TrainData/FaintDrums.mp3', format='mp3')"
      ],
      "metadata": {
        "id": "4ZK3pzej9-IB"
      },
      "execution_count": null,
      "outputs": []
    },
    {
      "cell_type": "code",
      "source": [
        "def make_pieces(song): #cut the song up into pieces by going from start to every 50,000 from start\n",
        "  start = 0\n",
        "  end = len(song)\n",
        "  \n",
        "  pieces = []\n",
        "\n",
        "  while start < end - 50000:\n",
        "    pieces.append(song[start:start+50000])\n",
        "\n",
        "    start += 50000\n",
        "\n",
        "  return pieces #return the array of all of the pieces of the song"
      ],
      "metadata": {
        "id": "RfvS39FFBU72"
      },
      "execution_count": 7,
      "outputs": []
    },
    {
      "cell_type": "code",
      "source": [
        "def specto_song(song_path): #turn the different pieces of song into a spectrogram\n",
        "  song_array = []\n",
        "  y,sr = librosa.load(song_path) #load through the librosa module\n",
        "  pieces = make_pieces(y) #utilize the make_pieces function above that splits the song\n",
        "  for piece in pieces:\n",
        "    spectrogram = librosa.feature.melspectrogram(y=piece) #convert each piece into a spectrogram\n",
        "    song_array.append(spectrogram) #add each piece into a separate array to return\n",
        "  return song_array"
      ],
      "metadata": {
        "id": "9Sctk88GBXf_"
      },
      "execution_count": 8,
      "outputs": []
    },
    {
      "cell_type": "code",
      "source": [
        "songs = ['Numb', 'Lost', 'Rock', 'DigitalLove', 'Faint'] #utilize array to create a separate array with all of the songs paths\n",
        "songs_path = []\n",
        "for i in range(0, 5):\n",
        "  songs_path.append('/content/drive/MyDrive/musicproj/TrainData/' + songs[i] + 'Drums.mp3')\n",
        "  i+=1"
      ],
      "metadata": {
        "id": "lMCF3Dvq435o"
      },
      "execution_count": 9,
      "outputs": []
    },
    {
      "cell_type": "code",
      "source": [
        "model_input = []\n",
        "for song in songs_path:\n",
        "  y, sr = librosa.load(song) #use librosa load for each drum song\n",
        "  model_input.append(specto_song(song)) #print(specto_song(song)) #print the array out that is generated for each song through the specto_song and make_pieces functions"
      ],
      "metadata": {
        "id": "PN5tBdAD-nlU"
      },
      "execution_count": 21,
      "outputs": []
    },
    {
      "cell_type": "code",
      "source": [
        "x = (model_input[0])[0]\n",
        "y = (model_input[0])[1]\n",
        "x = numpy.array(X)\n",
        "y = numpy.array(y)\n",
        "x = x.reshape(1, 112, 112)\n",
        "y = y.reshape(1, 112, 112)"
      ],
      "metadata": {
        "id": "tzi9WMgDE_N8"
      },
      "execution_count": 88,
      "outputs": []
    },
    {
      "cell_type": "code",
      "source": [
        "model = Sequential()\n",
        "model.add(LSTM(8, input_shape=(112, 112), return_sequences=False))\n",
        "model.add(Dense(2, kernel_initializer='normal',activation='linear'))\n",
        "model.add(Dense(1, kernel_initializer='normal',activation='linear'))"
      ],
      "metadata": {
        "id": "l1SeWbtVGZF4"
      },
      "execution_count": 87,
      "outputs": []
    }
  ]
}