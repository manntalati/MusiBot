from google.colab import drive
drive.mount('/content/drive', force_remount=True)
from IPython.display import Audio
from pydub import AudioSegment

!apt install ffmpeg
!pip install spleeter
!pip install pydub
!pip install basic-pitch

!wget https://github.com/manntalati/musicproj/raw/main/songs/Numb.mp3
!wget https://github.com/manntalati/musicproj/raw/main/songs/DigitalLove.mp3
!wget https://github.com/manntalati/musicproj/raw/main/songs/Faint.mp3
!wget https://github.com/manntalati/musicproj/raw/main/songs/Rock.mp3
!wget https://github.com/manntalati/musicproj/raw/main/songs/Lost.mp3

!spleeter separate -o output -p spleeter:4stems Numb.mp3
!spleeter separate -o output -p spleeter:4stems DigitalLove.mp3
!spleeter separate -o output -p spleeter:4stems Lost.mp3
!spleeter separate -o output -p spleeter:4stems Faint.mp3
!spleeter separate -o output -p spleeter:4stems Rock.mp3
